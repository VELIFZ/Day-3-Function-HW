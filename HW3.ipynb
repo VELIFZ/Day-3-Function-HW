{
 "cells": [
  {
   "cell_type": "markdown",
   "id": "d3488025",
   "metadata": {},
   "source": [
    "### Exercise 1\n",
    "Given an array of positive integers nums, return a list of all of the negative integers.\n"
   ]
  },
  {
   "cell_type": "code",
   "execution_count": 1,
   "id": "1a038d65",
   "metadata": {},
   "outputs": [
    {
     "name": "stdout",
     "output_type": "stream",
     "text": [
      "[-1, -2, -3, -4, -5, -6, -7]\n"
     ]
    }
   ],
   "source": [
    "list_ = [1, 2, 3, 4, 5, 6, 7]\n",
    "\n",
    "def positive_num(list_):\n",
    "    return [ -1*num for num in list_]\n",
    "  \n",
    "\n",
    "print(positive_num(list_))"
   ]
  },
  {
   "cell_type": "markdown",
   "id": "f83ee6dd",
   "metadata": {},
   "source": [
    "### Exercise 2\n",
    "Given a string, return a list of all of the digits in the string."
   ]
  },
  {
   "cell_type": "code",
   "execution_count": 2,
   "id": "d8d8f067",
   "metadata": {},
   "outputs": [
    {
     "name": "stdout",
     "output_type": "stream",
     "text": [
      "['5', '5', '5', '5', '5', '5', '4', '3', '2', '1']\n",
      "['5', '5', '5', '5', '5', '5', '4', '3', '2', '1']\n"
     ]
    },
    {
     "data": {
      "text/plain": [
       "'\\nisdigit(self, /)\\n |      Return True if the string is a digit string, False otherwise.\\n |      \\n |      A string is a digit string if all characters in the string are digits and there\\n |      is at least one character in the string.\\n'"
      ]
     },
     "execution_count": 2,
     "metadata": {},
     "output_type": "execute_result"
    }
   ],
   "source": [
    "address = \"123 Real Street, Apt. 2, Springfield, OR 43498\"\n",
    "sentence = \"My phone number is (555) 555-4321\"\n",
    "\n",
    "def turn_to_digits(string):\n",
    "    new_list = [num for num in string if num.isdigit()]\n",
    "    return new_list\n",
    "\n",
    "print(turn_to_digits(sentence))\n",
    "print(turn_to_digits(sentence))\n",
    "\n",
    "\"\"\"\n",
    "isdigit(self, /)\n",
    " |      Return True if the string is a digit string, False otherwise.\n",
    " |      \n",
    " |      A string is a digit string if all characters in the string are digits and there\n",
    " |      is at least one character in the string.\n",
    "\"\"\""
   ]
  },
  {
   "cell_type": "markdown",
   "id": "cc135629",
   "metadata": {},
   "source": [
    "### Exercise 3\n",
    "Given a string digits, return a string of the digits + 1\n"
   ]
  },
  {
   "cell_type": "code",
   "execution_count": 3,
   "id": "93d59096",
   "metadata": {},
   "outputs": [
    {
     "name": "stdout",
     "output_type": "stream",
     "text": [
      "346\n",
      "<class 'str'>\n"
     ]
    }
   ],
   "source": [
    "def new_digits(string):\n",
    "    return str(int(string) + 1) #-->once string'i int'a cevir, 1 ekledikten sonra tekrar str yap\n",
    "\n",
    "print(new_digits('345'))\n",
    "print(type(new_digits('345')))"
   ]
  },
  {
   "cell_type": "code",
   "execution_count": null,
   "id": "62972c9d",
   "metadata": {},
   "outputs": [],
   "source": []
  }
 ],
 "metadata": {
  "kernelspec": {
   "display_name": "Python 3",
   "language": "python",
   "name": "python3"
  },
  "language_info": {
   "codemirror_mode": {
    "name": "ipython",
    "version": 3
   },
   "file_extension": ".py",
   "mimetype": "text/x-python",
   "name": "python",
   "nbconvert_exporter": "python",
   "pygments_lexer": "ipython3",
   "version": "3.8.8"
  }
 },
 "nbformat": 4,
 "nbformat_minor": 5
}
